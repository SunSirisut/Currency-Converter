{
 "cells": [
  {
   "cell_type": "markdown",
   "metadata": {},
   "source": [
    "##### URL : https://rapidapi.com/natkapral/api/currency-converter5?endpoint=apiendpoint_b0d109c2-e479-4f70-be68-ab4dbe08cfcf\n",
    "##### ก่อน run code นี้พี่สันต้อง install package xmltodict ก่อนนะคะ\n"
   ]
  },
  {
   "cell_type": "code",
   "execution_count": 1,
   "metadata": {},
   "outputs": [],
   "source": [
    "import requests\n",
    "import xmltodict\n",
    "import json"
   ]
  },
  {
   "cell_type": "markdown",
   "metadata": {},
   "source": [
    "## GET Currency Converter"
   ]
  },
  {
   "cell_type": "code",
   "execution_count": 2,
   "metadata": {},
   "outputs": [],
   "source": [
    "url = \"https://currency-converter5.p.rapidapi.com/currency/convert\""
   ]
  },
  {
   "cell_type": "code",
   "execution_count": 23,
   "metadata": {},
   "outputs": [],
   "source": [
    "# จะแปลง 100 EUR to THB\n",
    "querystring = {\"format\":\"json\",\"from\":\"EUR\",\"to\":\"THB\"}"
   ]
  },
  {
   "cell_type": "code",
   "execution_count": 24,
   "metadata": {},
   "outputs": [],
   "source": [
    "headers = {\n",
    "    'x-rapidapi-host': \"currency-converter5.p.rapidapi.com\",\n",
    "    'x-rapidapi-key': \"e1f657336amsh2e4f08e77a8c61ep106ccajsn517875c21896\"\n",
    "    }"
   ]
  },
  {
   "cell_type": "code",
   "execution_count": 25,
   "metadata": {},
   "outputs": [],
   "source": [
    "response = requests.request(\"GET\", url, headers=headers, params=querystring)"
   ]
  },
  {
   "cell_type": "code",
   "execution_count": 26,
   "metadata": {},
   "outputs": [
    {
     "output_type": "execute_result",
     "data": {
      "text/plain": "{'amount': '1.0000',\n 'base_currency_code': 'EUR',\n 'base_currency_name': 'Euro',\n 'rates': {'THB': {'currency_name': 'Thai Baht',\n   'rate': '36.1110',\n   'rate_for_amount': '36.1110'}},\n 'status': 'success',\n 'updated_date': '2020-04-01'}"
     },
     "metadata": {},
     "execution_count": 26
    }
   ],
   "source": [
    "# response ที่ได้อยู่ในรูป json format ซึ่งเป็น format ที่จัดการง่าย\n",
    "response.json()"
   ]
  },
  {
   "cell_type": "code",
   "execution_count": 27,
   "metadata": {},
   "outputs": [],
   "source": [
    "# ตัวอย่าง\n",
    "tmp = response.json()"
   ]
  },
  {
   "cell_type": "code",
   "execution_count": 28,
   "metadata": {},
   "outputs": [
    {
     "output_type": "execute_result",
     "data": {
      "text/plain": "'1.0000'"
     },
     "metadata": {},
     "execution_count": 28
    }
   ],
   "source": [
    "# ดึง amount\n",
    "tmp['amount']"
   ]
  },
  {
   "cell_type": "code",
   "execution_count": 29,
   "metadata": {},
   "outputs": [
    {
     "output_type": "execute_result",
     "data": {
      "text/plain": "'36.1110'"
     },
     "metadata": {},
     "execution_count": 29
    }
   ],
   "source": [
    "# ดึง rate_for_amount\n",
    "tmp['rates']['THB']['rate_for_amount']"
   ]
  },
  {
   "cell_type": "markdown",
   "metadata": {},
   "source": [
    "## GET Available Currencies"
   ]
  },
  {
   "cell_type": "code",
   "execution_count": 30,
   "metadata": {},
   "outputs": [],
   "source": [
    "querystring = {\"format\":\"undefined\"}"
   ]
  },
  {
   "cell_type": "code",
   "execution_count": 31,
   "metadata": {},
   "outputs": [],
   "source": [
    "headers = {\n",
    "    'x-rapidapi-host': \"currency-converter5.p.rapidapi.com\",\n",
    "    'x-rapidapi-key': \"e1f657336amsh2e4f08e77a8c61ep106ccajsn517875c21896\"\n",
    "    }"
   ]
  },
  {
   "cell_type": "code",
   "execution_count": 32,
   "metadata": {},
   "outputs": [],
   "source": [
    "response = requests.request(\"GET\", url, headers=headers, params=querystring)"
   ]
  },
  {
   "cell_type": "code",
   "execution_count": 33,
   "metadata": {
    "scrolled": true
   },
   "outputs": [
    {
     "output_type": "execute_result",
     "data": {
      "text/plain": "'<?xml version=\"1.0\" encoding=\"utf-8\"?>\\n<root><updated_date>2020-04-01</updated_date><status>success</status><base_currency_code>EUR</base_currency_code><amount>1.0000</amount><rates><MKD><currency_name>Macedonian Denar</currency_name><rate>61.7041</rate><rate_for_amount>61.7041</rate_for_amount></MKD><TMT><currency_name>Turkmenistani Manat</currency_name><rate>3.8583</rate><rate_for_amount>3.8583</rate_for_amount></TMT><DZD><currency_name>Algerian Dinar</currency_name><rate>137.0072</rate><rate_for_amount>137.0072</rate_for_amount></DZD><TWD><currency_name>New Taiwan Dollar</currency_name><rate>33.4046</rate><rate_for_amount>33.4046</rate_for_amount></TWD><GHS><currency_name>Ghanaian Cedi</currency_name><rate>6.3328</rate><rate_for_amount>6.3328</rate_for_amount></GHS><EGP><currency_name>Egyptian Pound</currency_name><rate>17.2184</rate><rate_for_amount>17.2184</rate_for_amount></EGP><IDR><currency_name>Indonesian Rupiah</currency_name><rate>18239.6100</rate><rate_for_amount>18239.6100</rate_for_amount></IDR><GEL><currency_name>Georgian Lari</currency_name><rate>3.6248</rate><rate_for_amount>3.6248</rate_for_amount></GEL><BGN><currency_name>Bulgarian Lev</currency_name><rate>1.9558</rate><rate_for_amount>1.9558</rate_for_amount></BGN><ISK><currency_name>Icelandic Krona</currency_name><rate>156.1000</rate><rate_for_amount>156.1000</rate_for_amount></ISK><USD><currency_name>US Dollar</currency_name><rate>1.0936</rate><rate_for_amount>1.0936</rate_for_amount></USD><AED><currency_name>United Arab Emirates Dirham</currency_name><rate>4.0155</rate><rate_for_amount>4.0155</rate_for_amount></AED><GBP><currency_name>Pound Sterling</currency_name><rate>0.8846</rate><rate_for_amount>0.8846</rate_for_amount></GBP><IQD><currency_name>Iraqi Dinar</currency_name><rate>1306.0470</rate><rate_for_amount>1306.0470</rate_for_amount></IQD><LKR><currency_name>Sri Lankan Rupee</currency_name><rate>207.8229</rate><rate_for_amount>207.8229</rate_for_amount></LKR><DKK><currency_name>Danish Krone</currency_name><rate>7.4642</rate><rate_for_amount>7.4642</rate_for_amount></DKK><CAD><currency_name>Canadian Dollar</currency_name><rate>1.5601</rate><rate_for_amount>1.5601</rate_for_amount></CAD><PKR><currency_name>Pakistani Rupee</currency_name><rate>182.9233</rate><rate_for_amount>182.9233</rate_for_amount></PKR><LBP><currency_name>Lebanese Pound</currency_name><rate>1654.0159</rate><rate_for_amount>1654.0159</rate_for_amount></LBP><HUF><currency_name>Hungarian Forint</currency_name><rate>369.3600</rate><rate_for_amount>369.3600</rate_for_amount></HUF><VND><currency_name>Vietnamese Dong</currency_name><rate>25935.0185</rate><rate_for_amount>25935.0185</rate_for_amount></VND><KWD><currency_name>Kuwaiti Dinar</currency_name><rate>0.3453</rate><rate_for_amount>0.3453</rate_for_amount></KWD><MDL><currency_name>Moldovan Leu</currency_name><rate>19.9611</rate><rate_for_amount>19.9611</rate_for_amount></MDL><OMR><currency_name>Omani Rial</currency_name><rate>0.4247</rate><rate_for_amount>0.4247</rate_for_amount></OMR><KES><currency_name>Kenyan Shilling</currency_name><rate>115.4159</rate><rate_for_amount>115.4159</rate_for_amount></KES><KHR><currency_name>Cambodian Riel</currency_name><rate>4460.6872</rate><rate_for_amount>4460.6872</rate_for_amount></KHR><MYR><currency_name>Malaysian Ringgit</currency_name><rate>4.7654</rate><rate_for_amount>4.7654</rate_for_amount></MYR><AMD><currency_name>Armenian Dram</currency_name><rate>550.9771</rate><rate_for_amount>550.9771</rate_for_amount></AMD><LYD><currency_name>Libyan Dinar</currency_name><rate>1.5509</rate><rate_for_amount>1.5509</rate_for_amount></LYD><UAH><currency_name>Ukrainian Hryvnia</currency_name><rate>30.3053</rate><rate_for_amount>30.3053</rate_for_amount></UAH><JOD><currency_name>Jordanian Dinar</currency_name><rate>0.7819</rate><rate_for_amount>0.7819</rate_for_amount></JOD><AZN><currency_name>Azerbaijani Manat</currency_name><rate>1.8740</rate><rate_for_amount>1.8740</rate_for_amount></AZN><QAR><currency_name>Qatari Rial</currency_name><rate>4.0159</rate><rate_for_amount>4.0159</rate_for_amount></QAR><SAR><currency_name>Saudi Riyal</currency_name><rate>4.1497</rate><rate_for_amount>4.1497</rate_for_amount></SAR><BND><currency_name>Brunei Dollar</currency_name><rate>1.5666</rate><rate_for_amount>1.5666</rate_for_amount></BND><SEK><currency_name>Swedish Krona</currency_name><rate>10.9368</rate><rate_for_amount>10.9368</rate_for_amount></SEK><SGD><currency_name>Singapore Dollar</currency_name><rate>1.5689</rate><rate_for_amount>1.5689</rate_for_amount></SGD><HKD><currency_name>Hong Kong Dollar</currency_name><rate>8.4781</rate><rate_for_amount>8.4781</rate_for_amount></HKD><UZS><currency_name>Uzbekistan Som</currency_name><rate>10528.0899</rate><rate_for_amount>10528.0899</rate_for_amount></UZS><NOK><currency_name>Norwegian Krone</currency_name><rate>11.2685</rate><rate_for_amount>11.2685</rate_for_amount></NOK><MXN><currency_name>Mexican Peso</currency_name><rate>26.4097</rate><rate_for_amount>26.4097</rate_for_amount></MXN><AUD><currency_name>Australian Dollar</currency_name><rate>1.8053</rate><rate_for_amount>1.8053</rate_for_amount></AUD><CHF><currency_name>Swiss Franc</currency_name><rate>1.0564</rate><rate_for_amount>1.0564</rate_for_amount></CHF><IRR><currency_name>Iranian Rial</currency_name><rate>46850.0000</rate><rate_for_amount>46850.0000</rate_for_amount></IRR><KRW><currency_name>South Korean Won</currency_name><rate>1346.4800</rate><rate_for_amount>1346.4800</rate_for_amount></KRW><CNY><currency_name>Chinese Yuan</currency_name><rate>7.7653</rate><rate_for_amount>7.7653</rate_for_amount></CNY><BYN><currency_name>Belarusian Ruble</currency_name><rate>2.8489</rate><rate_for_amount>2.8489</rate_for_amount></BYN><TND><currency_name>Tunisian Dinar</currency_name><rate>3.1915</rate><rate_for_amount>3.1915</rate_for_amount></TND><ANG><currency_name>Netherlands Antillean Guilder</currency_name><rate>1.9768</rate><rate_for_amount>1.9768</rate_for_amount></ANG><HRK><currency_name>Croatian Kuna</currency_name><rate>7.6285</rate><rate_for_amount>7.6285</rate_for_amount></HRK><NZD><currency_name>New Zealand Dollar</currency_name><rate>1.8547</rate><rate_for_amount>1.8547</rate_for_amount></NZD><CLP><currency_name>Chilean Peso</currency_name><rate>941.2356</rate><rate_for_amount>941.2356</rate_for_amount></CLP><THB><currency_name>Thai Baht</currency_name><rate>36.1110</rate><rate_for_amount>36.1110</rate_for_amount></THB><EUR><currency_name>Euro</currency_name><rate>1.0000</rate><rate_for_amount>1.0000</rate_for_amount></EUR><ALL><currency_name>Albanian Lek</currency_name><rate>129.3456</rate><rate_for_amount>129.3456</rate_for_amount></ALL><TRY><currency_name>Turkish Lira</currency_name><rate>7.2925</rate><rate_for_amount>7.2925</rate_for_amount></TRY><KGS><currency_name>Kyrgystani Som</currency_name><rate>90.5314</rate><rate_for_amount>90.5314</rate_for_amount></KGS><ARS><currency_name>Argentine Peso</currency_name><rate>70.9848</rate><rate_for_amount>70.9848</rate_for_amount></ARS><ILS><currency_name>Israeli Shekel</currency_name><rate>3.9015</rate><rate_for_amount>3.9015</rate_for_amount></ILS><RON><currency_name>Romanian Leu</currency_name><rate>4.8340</rate><rate_for_amount>4.8340</rate_for_amount></RON><KZT><currency_name>Kazakhstani Tenge</currency_name><rate>493.1579</rate><rate_for_amount>493.1579</rate_for_amount></KZT><BDT><currency_name>Bangladeshi Taka</currency_name><rate>93.2830</rate><rate_for_amount>93.2830</rate_for_amount></BDT><RSD><currency_name>Serbian Dinar</currency_name><rate>117.3869</rate><rate_for_amount>117.3869</rate_for_amount></RSD><RUB><currency_name>Russian Ruble</currency_name><rate>86.4750</rate><rate_for_amount>86.4750</rate_for_amount></RUB><LAK><currency_name>Laotian Kip</currency_name><rate>9828.6814</rate><rate_for_amount>9828.6814</rate_for_amount></LAK><BHD><currency_name>Bahraini Dinar</currency_name><rate>0.4147</rate><rate_for_amount>0.4147</rate_for_amount></BHD><INR><currency_name>Indian Rupee</currency_name><rate>83.6004</rate><rate_for_amount>83.6004</rate_for_amount></INR><JPY><currency_name>Japanese Yen</currency_name><rate>117.5500</rate><rate_for_amount>117.5500</rate_for_amount></JPY><CZK><currency_name>Czech Koruna</currency_name><rate>27.3690</rate><rate_for_amount>27.3690</rate_for_amount></CZK><TJS><currency_name>Tajikistani Somoni</currency_name><rate>11.2418</rate><rate_for_amount>11.2418</rate_for_amount></TJS><BRL><currency_name>Brazilian Real</currency_name><rate>5.7349</rate><rate_for_amount>5.7349</rate_for_amount></BRL><MAD><currency_name>Moroccan Dirham</currency_name><rate>11.1523</rate><rate_for_amount>11.1523</rate_for_amount></MAD><MMK><currency_name>Myanma Kyat</currency_name><rate>1531.8000</rate><rate_for_amount>1531.8000</rate_for_amount></MMK><PLN><currency_name>Polish Zloty</currency_name><rate>4.5815</rate><rate_for_amount>4.5815</rate_for_amount></PLN><PHP><currency_name>Philippine Peso</currency_name><rate>55.7090</rate><rate_for_amount>55.7090</rate_for_amount></PHP><ZAR><currency_name>South African Rand</currency_name><rate>19.6619</rate><rate_for_amount>19.6619</rate_for_amount></ZAR><NPR><currency_name>Nepalese Rupee</currency_name><rate>132.6463</rate><rate_for_amount>132.6463</rate_for_amount></NPR></rates><base_currency_name>Euro</base_currency_name></root>'"
     },
     "metadata": {},
     "execution_count": 33
    }
   ],
   "source": [
    "# respons ของอันนี้ดัน return เป็น xml format ซึ่งจัดการยากมาก ต้องแลงให้เป็น format ท่ี่จัดการง่ายกว่านี้ก่อน\n",
    "response.text"
   ]
  },
  {
   "cell_type": "code",
   "execution_count": 34,
   "metadata": {},
   "outputs": [],
   "source": [
    "# ใช้ library ชื่อ xmltodict ในการแปลง xml format เป็น dictionary\n",
    "tmp = xmltodict.parse(response.text)"
   ]
  },
  {
   "cell_type": "code",
   "execution_count": 35,
   "metadata": {
    "scrolled": true
   },
   "outputs": [
    {
     "output_type": "execute_result",
     "data": {
      "text/plain": "             'Ukrainian Hryvnia'),\n                                                       ('rate', '30.3053'),\n                                                       ('rate_for_amount',\n                                                        '30.3053')])),\n                                         ('JOD',\n                                          OrderedDict([('currency_name',\n                                                        'Jordanian Dinar'),\n                                                       ('rate', '0.7819'),\n                                                       ('rate_for_amount',\n                                                        '0.7819')])),\n                                         ('AZN',\n                                          OrderedDict([('currency_name',\n                                                        'Azerbaijani Manat'),\n                                                       ('rate', '1.8740'),\n                                                       ('rate_for_amount',\n                                                        '1.8740')])),\n                                         ('QAR',\n                                          OrderedDict([('currency_name',\n                                                        'Qatari Rial'),\n                                                       ('rate', '4.0159'),\n                                                       ('rate_for_amount',\n                                                        '4.0159')])),\n                                         ('SAR',\n                                          OrderedDict([('currency_name',\n                                                        'Saudi Riyal'),\n                                                       ('rate', '4.1497'),\n                                                       ('rate_for_amount',\n                                                        '4.1497')])),\n                                         ('BND',\n                                          OrderedDict([('currency_name',\n                                                        'Brunei Dollar'),\n                                                       ('rate', '1.5666'),\n                                                       ('rate_for_amount',\n                                                        '1.5666')])),\n                                         ('SEK',\n                                          OrderedDict([('currency_name',\n                                                        'Swedish Krona'),\n                                                       ('rate', '10.9368'),\n                                                       ('rate_for_amount',\n                                                        '10.9368')])),\n                                         ('SGD',\n                                          OrderedDict([('currency_name',\n                                                        'Singapore Dollar'),\n                                                       ('rate', '1.5689'),\n                                                       ('rate_for_amount',\n                                                        '1.5689')])),\n                                         ('HKD',\n                                          OrderedDict([('currency_name',\n                                                        'Hong Kong Dollar'),\n                                                       ('rate', '8.4781'),\n                                                       ('rate_for_amount',\n                                                        '8.4781')])),\n                                         ('UZS',\n                                          OrderedDict([('currency_name',\n                                                        'Uzbekistan Som'),\n                                                       ('rate', '10528.0899'),\n                                                       ('rate_for_amount',\n                                                        '10528.0899')])),\n                                         ('NOK',\n                                          OrderedDict([('currency_name',\n                                                        'Norwegian Krone'),\n                                                       ('rate', '11.2685'),\n                                                       ('rate_for_amount',\n                                                        '11.2685')])),\n                                         ('MXN',\n                                          OrderedDict([('currency_name',\n                                                        'Mexican Peso'),\n                                                       ('rate', '26.4097'),\n                                                       ('rate_for_amount',\n                                                        '26.4097')])),\n                                         ('AUD',\n                                          OrderedDict([('currency_name',\n                                                        'Australian Dollar'),\n                                                       ('rate', '1.8053'),\n                                                       ('rate_for_amount',\n                                                        '1.8053')])),\n                                         ('CHF',\n                                          OrderedDict([('currency_name',\n                                                        'Swiss Franc'),\n                                                       ('rate', '1.0564'),\n                                                       ('rate_for_amount',\n                                                        '1.0564')])),\n                                         ('IRR',\n                                          OrderedDict([('currency_name',\n                                                        'Iranian Rial'),\n                                                       ('rate', '46850.0000'),\n                                                       ('rate_for_amount',\n                                                        '46850.0000')])),\n                                         ('KRW',\n                                          OrderedDict([('currency_name',\n                                                        'South Korean Won'),\n                                                       ('rate', '1346.4800'),\n                                                       ('rate_for_amount',\n                                                        '1346.4800')])),\n                                         ('CNY',\n                                          OrderedDict([('currency_name',\n                                                        'Chinese Yuan'),\n                                                       ('rate', '7.7653'),\n                                                       ('rate_for_amount',\n                                                        '7.7653')])),\n                                         ('BYN',\n                                          OrderedDict([('currency_name',\n                                                        'Belarusian Ruble'),\n                                                       ('rate', '2.8489'),\n                                                       ('rate_for_amount',\n                                                        '2.8489')])),\n                                         ('TND',\n                                          OrderedDict([('currency_name',\n                                                        'Tunisian Dinar'),\n                                                       ('rate', '3.1915'),\n                                                       ('rate_for_amount',\n                                                        '3.1915')])),\n                                         ('ANG',\n                                          OrderedDict([('currency_name',\n                                                        'Netherlands Antillean Guilder'),\n                                                       ('rate', '1.9768'),\n                                                       ('rate_for_amount',\n                                                        '1.9768')])),\n                                         ('HRK',\n                                          OrderedDict([('currency_name',\n                                                        'Croatian Kuna'),\n                                                       ('rate', '7.6285'),\n                                                       ('rate_for_amount',\n                                                        '7.6285')])),\n                                         ('NZD',\n                                          OrderedDict([('currency_name',\n                                                        'New Zealand Dollar'),\n                                                       ('rate', '1.8547'),\n                                                       ('rate_for_amount',\n                                                        '1.8547')])),\n                                         ('CLP',\n                                          OrderedDict([('currency_name',\n                                                        'Chilean Peso'),\n                                                       ('rate', '941.2356'),\n                                                       ('rate_for_amount',\n                                                        '941.2356')])),\n                                         ('THB',\n                                          OrderedDict([('currency_name',\n                                                        'Thai Baht'),\n                                                       ('rate', '36.1110'),\n                                                       ('rate_for_amount',\n                                                        '36.1110')])),\n                                         ('EUR',\n                                          OrderedDict([('currency_name',\n                                                        'Euro'),\n                                                       ('rate', '1.0000'),\n                                                       ('rate_for_amount',\n                                                        '1.0000')])),\n                                         ('ALL',\n                                          OrderedDict([('currency_name',\n                                                        'Albanian Lek'),\n                                                       ('rate', '129.3456'),\n                                                       ('rate_for_amount',\n                                                        '129.3456')])),\n                                         ('TRY',\n                                          OrderedDict([('currency_name',\n                                                        'Turkish Lira'),\n                                                       ('rate', '7.2925'),\n                                                       ('rate_for_amount',\n                                                        '7.2925')])),\n                                         ('KGS',\n                                          OrderedDict([('currency_name',\n                                                        'Kyrgystani Som'),\n                                                       ('rate', '90.5314'),\n                                                       ('rate_for_amount',\n                                                        '90.5314')])),\n                                         ('ARS',\n                                          OrderedDict([('currency_name',\n                                                        'Argentine Peso'),\n                                                       ('rate', '70.9848'),\n                                                       ('rate_for_amount',\n                                                        '70.9848')])),\n                                         ('ILS',\n                                          OrderedDict([('currency_name',\n                                                        'Israeli Shekel'),\n                                                       ('rate', '3.9015'),\n                                                       ('rate_for_amount',\n                                                        '3.9015')])),\n                                         ('RON',\n                                          OrderedDict([('currency_name',\n                                                        'Romanian Leu'),\n                                                       ('rate', '4.8340'),\n                                                       ('rate_for_amount',\n                                                        '4.8340')])),\n                                         ('KZT',\n                                          OrderedDict([('currency_name',\n                                                        'Kazakhstani Tenge'),\n                                                       ('rate', '493.1579'),\n                                                       ('rate_for_amount',\n                                                        '493.1579')])),\n                                         ('BDT',\n                                          OrderedDict([('currency_name',\n                                                        'Bangladeshi Taka'),\n                                                       ('rate', '93.2830'),\n                                                       ('rate_for_amount',\n                                                        '93.2830')])),\n                                         ('RSD',\n                                          OrderedDict([('currency_name',\n                                                        'Serbian Dinar'),\n                                                       ('rate', '117.3869'),\n                                                       ('rate_for_amount',\n                                                        '117.3869')])),\n                                         ('RUB',\n                                          OrderedDict([('currency_name',\n                                                        'Russian Ruble'),\n                                                       ('rate', '86.4750'),\n                                                       ('rate_for_amount',\n                                                        '86.4750')])),\n                                         ('LAK',\n                                          OrderedDict([('currency_name',\n                                                        'Laotian Kip'),\n                                                       ('rate', '9828.6814'),\n                                                       ('rate_for_amount',\n                                                        '9828.6814')])),\n                                         ('BHD',\n                                          OrderedDict([('currency_name',\n                                                        'Bahraini Dinar'),\n                                                       ('rate', '0.4147'),\n                                                       ('rate_for_amount',\n                                                        '0.4147')])),\n                                         ('INR',\n                                          OrderedDict([('currency_name',\n                                                        'Indian Rupee'),\n                                                       ('rate', '83.6004'),\n                                                       ('rate_for_amount',\n                                                        '83.6004')])),\n                                         ('JPY',\n                                          OrderedDict([('currency_name',\n                                                        'Japanese Yen'),\n                                                       ('rate', '117.5500'),\n                                                       ('rate_for_amount',\n                                                        '117.5500')])),\n                                         ('CZK',\n                                          OrderedDict([('currency_name',\n                                                        'Czech Koruna'),\n                                                       ('rate', '27.3690'),\n                                                       ('rate_for_amount',\n                                                        '27.3690')])),\n                                         ('TJS',\n                                          OrderedDict([('currency_name',\n                                                        'Tajikistani Somoni'),\n                                                       ('rate', '11.2418'),\n                                                       ('rate_for_amount',\n                                                        '11.2418')])),\n                                         ('BRL',\n                                          OrderedDict([('currency_name',\n                                                        'Brazilian Real'),\n                                                       ('rate', '5.7349'),\n                                                       ('rate_for_amount',\n                                                        '5.7349')])),\n                                         ('MAD',\n                                          OrderedDict([('currency_name',\n                                                        'Moroccan Dirham'),\n                                                       ('rate', '11.1523'),\n                                                       ('rate_for_amount',\n                                                        '11.1523')])),\n                                         ('MMK',\n                                          OrderedDict([('currency_name',\n                                                        'Myanma Kyat'),\n                                                       ('rate', '1531.8000'),\n                                                       ('rate_for_amount',\n                                                        '1531.8000')])),\n                                         ('PLN',\n                                          OrderedDict([('currency_name',\n                                                        'Polish Zloty'),\n                                                       ('rate', '4.5815'),\n                                                       ('rate_for_amount',\n                                                        '4.5815')])),\n                                         ('PHP',\n                                          OrderedDict([('currency_name',\n                                                        'Philippine Peso'),\n                                                       ('rate', '55.7090'),\n                                                       ('rate_for_amount',\n                                                        '55.7090')])),\n                                         ('ZAR',\n                                          OrderedDict([('currency_name',\n                                                        'South African Rand'),\n                                                       ('rate', '19.6619'),\n                                                       ('rate_for_amount',\n                                                        '19.6619')])),\n                                         ('NPR',\n                                          OrderedDict([('currency_name',\n                                                        'Nepalese Rupee'),\n                                                       ('rate', '132.6463'),\n                                                       ('rate_for_amount',\n                                                        '132.6463')]))])),\n                           ('base_currency_name', 'Euro')]))])"
     },
     "metadata": {},
     "execution_count": 35
    }
   ],
   "source": [
    "# ผลลัพธ์ที่ได้จะเป็น dictionary หลายชั้น เราต้องมาดูว่าข้อมูลี่เราจะใช้อยู่ชั้นไหน\n",
    "tmp"
   ]
  },
  {
   "cell_type": "code",
   "execution_count": 36,
   "metadata": {},
   "outputs": [],
   "source": [
    "# เราต้องการสกุลเงินทั้งหมด -> เราต้องเข้าไปถึงชั้น rate แล้วดึง keys ในชั้นนั้นมา\n",
    "avai_curr = list(tmp['root']['rates'].keys())"
   ]
  },
  {
   "cell_type": "code",
   "execution_count": 37,
   "metadata": {
    "scrolled": true
   },
   "outputs": [
    {
     "output_type": "execute_result",
     "data": {
      "text/plain": "['MKD',\n 'TMT',\n 'DZD',\n 'TWD',\n 'GHS',\n 'EGP',\n 'IDR',\n 'GEL',\n 'BGN',\n 'ISK',\n 'USD',\n 'AED',\n 'GBP',\n 'IQD',\n 'LKR',\n 'DKK',\n 'CAD',\n 'PKR',\n 'LBP',\n 'HUF',\n 'VND',\n 'KWD',\n 'MDL',\n 'OMR',\n 'KES',\n 'KHR',\n 'MYR',\n 'AMD',\n 'LYD',\n 'UAH',\n 'JOD',\n 'AZN',\n 'QAR',\n 'SAR',\n 'BND',\n 'SEK',\n 'SGD',\n 'HKD',\n 'UZS',\n 'NOK',\n 'MXN',\n 'AUD',\n 'CHF',\n 'IRR',\n 'KRW',\n 'CNY',\n 'BYN',\n 'TND',\n 'ANG',\n 'HRK',\n 'NZD',\n 'CLP',\n 'THB',\n 'EUR',\n 'ALL',\n 'TRY',\n 'KGS',\n 'ARS',\n 'ILS',\n 'RON',\n 'KZT',\n 'BDT',\n 'RSD',\n 'RUB',\n 'LAK',\n 'BHD',\n 'INR',\n 'JPY',\n 'CZK',\n 'TJS',\n 'BRL',\n 'MAD',\n 'MMK',\n 'PLN',\n 'PHP',\n 'ZAR',\n 'NPR']"
     },
     "metadata": {},
     "execution_count": 37
    }
   ],
   "source": [
    "# เราต้องเอา avai_curr ไปอยู่ใน dropdown list ของเรา แต่แป้งคิดว่าประกาศลิสนี้ฟิกไปในโค้ดเลยน่าจะดีกว่าเพราะค่ามันไม่น่าจะเปลี่ยนอยู่่แล้ว ไม่จำเป็นต้อง call api สำหรับส่วนนี้ทุกครั้งค่ะ\n",
    "avai_curr"
   ]
  },
  {
   "cell_type": "markdown",
   "metadata": {},
   "source": [
    "## Historical Currency Rates"
   ]
  },
  {
   "cell_type": "code",
   "execution_count": 38,
   "metadata": {},
   "outputs": [],
   "source": [
    "# ดึงข้อมูลวันที่ 2020-04-01\n",
    "url = \"https://currency-converter5.p.rapidapi.com/currency/historical/2020-04-01\""
   ]
  },
  {
   "cell_type": "code",
   "execution_count": 39,
   "metadata": {},
   "outputs": [],
   "source": [
    "# 100 EUR to THB\n",
    "querystring = {\"format\":\"json\",\"to\":\"THB\",\"from\":\"EUR\",\"amount\":\"100\"}"
   ]
  },
  {
   "cell_type": "code",
   "execution_count": 40,
   "metadata": {},
   "outputs": [],
   "source": [
    "headers = {\n",
    "    'x-rapidapi-host': \"currency-converter5.p.rapidapi.com\",\n",
    "    'x-rapidapi-key': \"e1f657336amsh2e4f08e77a8c61ep106ccajsn517875c21896\"\n",
    "    }"
   ]
  },
  {
   "cell_type": "code",
   "execution_count": 41,
   "metadata": {},
   "outputs": [],
   "source": [
    "response = requests.request(\"GET\", url, headers=headers, params=querystring)"
   ]
  },
  {
   "cell_type": "code",
   "execution_count": 42,
   "metadata": {},
   "outputs": [
    {
     "output_type": "execute_result",
     "data": {
      "text/plain": "{'amount': '100.0000',\n 'base_currency_code': 'EUR',\n 'base_currency_name': 'Euro',\n 'rates': {'THB': {'currency_name': 'Thai Baht',\n   'rate': '36.1110',\n   'rate_for_amount': '3611.1000'}},\n 'status': 'success',\n 'updated_date': '2020-04-01'}"
     },
     "metadata": {},
     "execution_count": 42
    }
   ],
   "source": [
    "response.json()"
   ]
  },
  {
   "cell_type": "code",
   "execution_count": null,
   "metadata": {},
   "outputs": [],
   "source": []
  }
 ],
 "metadata": {
  "kernelspec": {
   "display_name": "Python 3",
   "language": "python",
   "name": "python3"
  },
  "language_info": {
   "codemirror_mode": {
    "name": "ipython",
    "version": 3
   },
   "file_extension": ".py",
   "mimetype": "text/x-python",
   "name": "python",
   "nbconvert_exporter": "python",
   "pygments_lexer": "ipython3",
   "version": "3.8.2-final"
  }
 },
 "nbformat": 4,
 "nbformat_minor": 2
}